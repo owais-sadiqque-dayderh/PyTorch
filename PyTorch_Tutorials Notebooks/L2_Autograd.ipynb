{
  "nbformat": 4,
  "nbformat_minor": 0,
  "metadata": {
    "colab": {
      "provenance": []
    },
    "kernelspec": {
      "name": "python3",
      "display_name": "Python 3"
    },
    "language_info": {
      "name": "python"
    }
  },
  "cells": [
    {
      "cell_type": "markdown",
      "source": [
        "#PyTorch Autograd"
      ],
      "metadata": {
        "id": "Mh3plL4UedG_"
      }
    },
    {
      "cell_type": "markdown",
      "source": [
        "\n",
        "\n",
        "##Example 01"
      ],
      "metadata": {
        "id": "2A961_WBei3T"
      }
    },
    {
      "cell_type": "code",
      "source": [
        "#Manual Computation\n",
        "# y = x**2\n",
        "def dy_dx(x):\n",
        "  return 2*x"
      ],
      "metadata": {
        "id": "Ga3KXdoBec03"
      },
      "execution_count": 1,
      "outputs": []
    },
    {
      "cell_type": "code",
      "execution_count": 2,
      "metadata": {
        "colab": {
          "base_uri": "https://localhost:8080/"
        },
        "id": "xUYPm3YnWGCa",
        "outputId": "b17e3289-6769-4e26-a332-28f5838daae9"
      },
      "outputs": [
        {
          "output_type": "execute_result",
          "data": {
            "text/plain": [
              "6"
            ]
          },
          "metadata": {},
          "execution_count": 2
        }
      ],
      "source": [
        "dy_dx(3)"
      ]
    },
    {
      "cell_type": "code",
      "source": [
        "#Autograd\n",
        "import torch\n",
        "a = torch.tensor(3.0, requires_grad= True)\n",
        "a #require_grad helps start making dynamic computation graph."
      ],
      "metadata": {
        "colab": {
          "base_uri": "https://localhost:8080/"
        },
        "id": "4UzqsIXEfMDu",
        "outputId": "f5e85519-7d66-418a-aec4-789b7d61bc2d"
      },
      "execution_count": 3,
      "outputs": [
        {
          "output_type": "execute_result",
          "data": {
            "text/plain": [
              "tensor(3., requires_grad=True)"
            ]
          },
          "metadata": {},
          "execution_count": 3
        }
      ]
    },
    {
      "cell_type": "code",
      "source": [
        "b = a**2\n",
        "b"
      ],
      "metadata": {
        "colab": {
          "base_uri": "https://localhost:8080/"
        },
        "id": "Jjk6fK1WfVT8",
        "outputId": "197d6296-6483-4aa8-c88c-192cf5c2ce35"
      },
      "execution_count": 4,
      "outputs": [
        {
          "output_type": "execute_result",
          "data": {
            "text/plain": [
              "tensor(9., grad_fn=<PowBackward0>)"
            ]
          },
          "metadata": {},
          "execution_count": 4
        }
      ]
    },
    {
      "cell_type": "code",
      "source": [
        "b.backward() #computes backward pass from root node to leaf node. Here b is root node and a is leaf node"
      ],
      "metadata": {
        "id": "jHClOzKifbbL"
      },
      "execution_count": 5,
      "outputs": []
    },
    {
      "cell_type": "code",
      "source": [
        "a.grad # displays value for leaf node"
      ],
      "metadata": {
        "colab": {
          "base_uri": "https://localhost:8080/"
        },
        "id": "wqLhUtBSfjfy",
        "outputId": "775836cb-1f20-4f08-e2b0-ac3ec485f03f"
      },
      "execution_count": 6,
      "outputs": [
        {
          "output_type": "execute_result",
          "data": {
            "text/plain": [
              "tensor(6.)"
            ]
          },
          "metadata": {},
          "execution_count": 6
        }
      ]
    },
    {
      "cell_type": "markdown",
      "source": [
        "\n",
        "##Example 02"
      ],
      "metadata": {
        "id": "DAVTtlC3gQVm"
      }
    },
    {
      "cell_type": "code",
      "source": [
        "#Manual\n",
        "#y = x**2\n",
        "#z = sin(y)\n",
        "import math\n",
        "def dz_dx(x):\n",
        "  return 2*x*math.cos(x**2)"
      ],
      "metadata": {
        "id": "GfiZmdm9fkfN"
      },
      "execution_count": 7,
      "outputs": []
    },
    {
      "cell_type": "code",
      "source": [
        "dz_dx(4)"
      ],
      "metadata": {
        "colab": {
          "base_uri": "https://localhost:8080/"
        },
        "id": "f0TVmTG0gvxs",
        "outputId": "47b80d9c-442f-494c-878e-de167fe13183"
      },
      "execution_count": 8,
      "outputs": [
        {
          "output_type": "execute_result",
          "data": {
            "text/plain": [
              "-7.661275842587077"
            ]
          },
          "metadata": {},
          "execution_count": 8
        }
      ]
    },
    {
      "cell_type": "code",
      "source": [
        "#Autograd\n",
        "a = torch.tensor(4.0, requires_grad=True)\n",
        "a"
      ],
      "metadata": {
        "colab": {
          "base_uri": "https://localhost:8080/"
        },
        "id": "ezaDfwlHgxYG",
        "outputId": "d9fd2dc2-9fd8-4aed-e32c-60a370f1509d"
      },
      "execution_count": 9,
      "outputs": [
        {
          "output_type": "execute_result",
          "data": {
            "text/plain": [
              "tensor(4., requires_grad=True)"
            ]
          },
          "metadata": {},
          "execution_count": 9
        }
      ]
    },
    {
      "cell_type": "code",
      "source": [
        "b = a**2\n",
        "b"
      ],
      "metadata": {
        "colab": {
          "base_uri": "https://localhost:8080/"
        },
        "id": "b6RPxVxChEr_",
        "outputId": "5f289e90-22bf-40bf-c3a8-ee791e113482"
      },
      "execution_count": 10,
      "outputs": [
        {
          "output_type": "execute_result",
          "data": {
            "text/plain": [
              "tensor(16., grad_fn=<PowBackward0>)"
            ]
          },
          "metadata": {},
          "execution_count": 10
        }
      ]
    },
    {
      "cell_type": "code",
      "source": [
        "c = torch.sin(b)\n",
        "c"
      ],
      "metadata": {
        "colab": {
          "base_uri": "https://localhost:8080/"
        },
        "id": "X8nIKQRLhKxz",
        "outputId": "7b30480d-9de4-4545-e71d-912345bb0437"
      },
      "execution_count": 11,
      "outputs": [
        {
          "output_type": "execute_result",
          "data": {
            "text/plain": [
              "tensor(-0.2879, grad_fn=<SinBackward0>)"
            ]
          },
          "metadata": {},
          "execution_count": 11
        }
      ]
    },
    {
      "cell_type": "code",
      "source": [
        "c.backward()"
      ],
      "metadata": {
        "id": "v6qBVuczhNlc"
      },
      "execution_count": 12,
      "outputs": []
    },
    {
      "cell_type": "code",
      "source": [
        "a.grad"
      ],
      "metadata": {
        "colab": {
          "base_uri": "https://localhost:8080/"
        },
        "id": "-4rpQTgohQg1",
        "outputId": "e65dd861-440f-493a-a168-70c5caf865ae"
      },
      "execution_count": 13,
      "outputs": [
        {
          "output_type": "execute_result",
          "data": {
            "text/plain": [
              "tensor(-7.6613)"
            ]
          },
          "metadata": {},
          "execution_count": 13
        }
      ]
    },
    {
      "cell_type": "code",
      "source": [
        "b.grad #By default we can only compute gradients of leaf nodes, here b is an intermediate node."
      ],
      "metadata": {
        "colab": {
          "base_uri": "https://localhost:8080/"
        },
        "id": "y5i-xo81hReN",
        "outputId": "d841ac31-e4bd-497f-b0fc-20d044bed357"
      },
      "execution_count": 14,
      "outputs": [
        {
          "output_type": "stream",
          "name": "stderr",
          "text": [
            "/tmp/ipython-input-3274485692.py:1: UserWarning: The .grad attribute of a Tensor that is not a leaf Tensor is being accessed. Its .grad attribute won't be populated during autograd.backward(). If you indeed want the .grad field to be populated for a non-leaf Tensor, use .retain_grad() on the non-leaf Tensor. If you access the non-leaf Tensor by mistake, make sure you access the leaf Tensor instead. See github.com/pytorch/pytorch/pull/30531 for more informations. (Triggered internally at /pytorch/build/aten/src/ATen/core/TensorBody.h:489.)\n",
            "  b.grad #By default we can only compute gradients of leaf nodes, here b is an intermediate node.\n"
          ]
        }
      ]
    },
    {
      "cell_type": "markdown",
      "source": [
        "#Example 03 -- A Perceptron"
      ],
      "metadata": {
        "id": "By1JJHSiiR52"
      }
    },
    {
      "cell_type": "markdown",
      "source": [
        "![Screenshot 2025-10-20 082246.png](data:image/png;base64,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)"
      ],
      "metadata": {
        "id": "7K9gk5NyiWAx"
      }
    },
    {
      "cell_type": "code",
      "source": [
        "#Manual\n",
        "\n",
        "## Dataset for Binary Classification\n",
        "x = 6.7\n",
        "y = 0\n",
        "\n",
        "def binary_cross_entropy(n1, n1_pred):\n",
        "  return -((n1 * math.log(n1_pred)) + ((1 - n1) * math.log(1-n1_pred)))\n",
        "\n",
        "def sigmoid(n):\n",
        "  return 1/(1+math.exp(-n))\n",
        "\n",
        "#Weight-Bias\n",
        "w = 1.0\n",
        "b = 0.0"
      ],
      "metadata": {
        "id": "M6JEfPC5hbUf"
      },
      "execution_count": 25,
      "outputs": []
    },
    {
      "cell_type": "code",
      "source": [
        "## Forward Pass\n",
        "z = w*x + b\n",
        "z"
      ],
      "metadata": {
        "colab": {
          "base_uri": "https://localhost:8080/"
        },
        "id": "GKkfya7JloN3",
        "outputId": "4948adde-5152-4e5c-cbbd-0c7b8b0349a8"
      },
      "execution_count": 26,
      "outputs": [
        {
          "output_type": "execute_result",
          "data": {
            "text/plain": [
              "6.7"
            ]
          },
          "metadata": {},
          "execution_count": 26
        }
      ]
    },
    {
      "cell_type": "code",
      "source": [
        "y_pred = sigmoid(z)\n",
        "y_pred"
      ],
      "metadata": {
        "colab": {
          "base_uri": "https://localhost:8080/"
        },
        "id": "2WPNAJnqlscT",
        "outputId": "86c6393d-a886-4140-c62c-0f86c76137da"
      },
      "execution_count": 27,
      "outputs": [
        {
          "output_type": "execute_result",
          "data": {
            "text/plain": [
              "0.9987706013787226"
            ]
          },
          "metadata": {},
          "execution_count": 27
        }
      ]
    },
    {
      "cell_type": "code",
      "source": [
        "## Loss Calculation\n",
        "L = binary_cross_entropy(y, y_pred)\n",
        "L"
      ],
      "metadata": {
        "colab": {
          "base_uri": "https://localhost:8080/"
        },
        "id": "x05ksYcWlzwT",
        "outputId": "3c8769cb-d417-4ea5-86ae-b49828e3ca02"
      },
      "execution_count": 28,
      "outputs": [
        {
          "output_type": "execute_result",
          "data": {
            "text/plain": [
              "6.701230154951767"
            ]
          },
          "metadata": {},
          "execution_count": 28
        }
      ]
    },
    {
      "cell_type": "code",
      "source": [
        "## Backward Pass\n",
        "\n",
        "dL_dYpred = ((y_pred - y)/(y_pred*(1-y_pred)))\n",
        "\n",
        "dYpred_dz = (y_pred*(1-y_pred))\n",
        "\n",
        "dz_dw = x\n",
        "\n",
        "dz_db = 1\n",
        "\n",
        "dL_dw = dL_dYpred * dYpred_dz * dz_dw\n",
        "dL_db = dL_dYpred * dYpred_dz * dz_db\n",
        "\n",
        "print(dL_dw, dL_db)\n"
      ],
      "metadata": {
        "colab": {
          "base_uri": "https://localhost:8080/"
        },
        "id": "tCrvdo2DmTyg",
        "outputId": "e725bfc2-00f9-4a68-d4fe-59545aebef3d"
      },
      "execution_count": 29,
      "outputs": [
        {
          "output_type": "stream",
          "name": "stdout",
          "text": [
            "6.691763029237442 0.9987706013787226\n"
          ]
        }
      ]
    },
    {
      "cell_type": "code",
      "source": [
        "## The Next Step would be Update Gradients which we will not do now"
      ],
      "metadata": {
        "id": "dL3Hld21oYZ8"
      },
      "execution_count": 30,
      "outputs": []
    },
    {
      "cell_type": "code",
      "source": [
        "#AutoGrad\n",
        "x = torch.tensor(6.7)\n",
        "y = torch.tensor(0)\n",
        "\n",
        "w = torch.tensor(1.0,requires_grad=True)\n",
        "b = torch.tensor(0.0,requires_grad=True)\n",
        "\n",
        "def binary_cross_entropy(n1, n1_pred):\n",
        "  return -((n1 * torch.log(n1_pred)) + ((1 - n1) * torch.log(1-n1_pred)))\n",
        "\n",
        "def sigmoid(n):\n",
        "  return 1/(1+torch.exp(-n))"
      ],
      "metadata": {
        "id": "4qB_-3veplzH"
      },
      "execution_count": 40,
      "outputs": []
    },
    {
      "cell_type": "code",
      "source": [
        "## Forward Pass\n",
        "z = w*x + b\n",
        "z"
      ],
      "metadata": {
        "id": "axF7mhUXppEb",
        "colab": {
          "base_uri": "https://localhost:8080/"
        },
        "outputId": "31870968-719f-4bc6-8dbf-58a19782dc16"
      },
      "execution_count": 41,
      "outputs": [
        {
          "output_type": "execute_result",
          "data": {
            "text/plain": [
              "tensor(6.7000, grad_fn=<AddBackward0>)"
            ]
          },
          "metadata": {},
          "execution_count": 41
        }
      ]
    },
    {
      "cell_type": "code",
      "source": [
        "y_pred = sigmoid(z)\n",
        "y_pred"
      ],
      "metadata": {
        "colab": {
          "base_uri": "https://localhost:8080/"
        },
        "id": "KjTV0RxxcSEr",
        "outputId": "535b9fe6-688c-4e63-a5d0-375043aa1169"
      },
      "execution_count": 42,
      "outputs": [
        {
          "output_type": "execute_result",
          "data": {
            "text/plain": [
              "tensor(0.9988, grad_fn=<MulBackward0>)"
            ]
          },
          "metadata": {},
          "execution_count": 42
        }
      ]
    },
    {
      "cell_type": "code",
      "source": [
        "## Loss Calculation\n",
        "L = binary_cross_entropy(y, y_pred)\n",
        "L"
      ],
      "metadata": {
        "colab": {
          "base_uri": "https://localhost:8080/"
        },
        "id": "DYTfZxJ5cvmd",
        "outputId": "d9d208a7-296a-4af6-de0b-d4ef639777fb"
      },
      "execution_count": 43,
      "outputs": [
        {
          "output_type": "execute_result",
          "data": {
            "text/plain": [
              "tensor(6.7012, grad_fn=<NegBackward0>)"
            ]
          },
          "metadata": {},
          "execution_count": 43
        }
      ]
    },
    {
      "cell_type": "code",
      "source": [
        "L.backward()"
      ],
      "metadata": {
        "id": "r_zk2Bg_c0w1"
      },
      "execution_count": 44,
      "outputs": []
    },
    {
      "cell_type": "code",
      "source": [
        "w.grad"
      ],
      "metadata": {
        "colab": {
          "base_uri": "https://localhost:8080/"
        },
        "id": "ze08ggfMdESo",
        "outputId": "4af4ba21-3e52-4eca-fc0c-34a61e0c0213"
      },
      "execution_count": 45,
      "outputs": [
        {
          "output_type": "execute_result",
          "data": {
            "text/plain": [
              "tensor(6.6914)"
            ]
          },
          "metadata": {},
          "execution_count": 45
        }
      ]
    },
    {
      "cell_type": "code",
      "source": [
        "b.grad"
      ],
      "metadata": {
        "colab": {
          "base_uri": "https://localhost:8080/"
        },
        "id": "1zGLJT72dYl4",
        "outputId": "e0d88ebf-27ed-423b-b3da-446552dd7adf"
      },
      "execution_count": 46,
      "outputs": [
        {
          "output_type": "execute_result",
          "data": {
            "text/plain": [
              "tensor(0.9987)"
            ]
          },
          "metadata": {},
          "execution_count": 46
        }
      ]
    },
    {
      "cell_type": "code",
      "source": [],
      "metadata": {
        "id": "NVulZuRGda0v"
      },
      "execution_count": null,
      "outputs": []
    },
    {
      "cell_type": "markdown",
      "source": [
        "##Other Concepts"
      ],
      "metadata": {
        "id": "AsO72GyCgh2N"
      }
    },
    {
      "cell_type": "markdown",
      "source": [
        "###Autograd for vectors"
      ],
      "metadata": {
        "id": "d1a3wNmbigyq"
      }
    },
    {
      "cell_type": "code",
      "source": [
        "a = torch.tensor([1.0,2.0,3.0],requires_grad=True)\n",
        "a"
      ],
      "metadata": {
        "colab": {
          "base_uri": "https://localhost:8080/"
        },
        "id": "Lbf2Y30XilxJ",
        "outputId": "913acc22-765e-445b-b5cf-6cdf2c604729"
      },
      "execution_count": 104,
      "outputs": [
        {
          "output_type": "execute_result",
          "data": {
            "text/plain": [
              "tensor([1., 2., 3.], requires_grad=True)"
            ]
          },
          "metadata": {},
          "execution_count": 104
        }
      ]
    },
    {
      "cell_type": "code",
      "source": [
        "b = (a**2).mean()\n",
        "b"
      ],
      "metadata": {
        "colab": {
          "base_uri": "https://localhost:8080/"
        },
        "id": "irgv9Ud5itiG",
        "outputId": "18e2b811-f5ba-420b-ca29-8702d3f30721"
      },
      "execution_count": 106,
      "outputs": [
        {
          "output_type": "execute_result",
          "data": {
            "text/plain": [
              "tensor(4.6667, grad_fn=<MeanBackward0>)"
            ]
          },
          "metadata": {},
          "execution_count": 106
        }
      ]
    },
    {
      "cell_type": "code",
      "source": [
        "b.backward()"
      ],
      "metadata": {
        "id": "dujdB5pniyuY"
      },
      "execution_count": 108,
      "outputs": []
    },
    {
      "cell_type": "code",
      "source": [
        "a.grad"
      ],
      "metadata": {
        "colab": {
          "base_uri": "https://localhost:8080/"
        },
        "id": "JCbw2FPBi2ao",
        "outputId": "f889119f-3c19-4b00-f68e-7b326b4dfa8d"
      },
      "execution_count": 109,
      "outputs": [
        {
          "output_type": "execute_result",
          "data": {
            "text/plain": [
              "tensor([0.6667, 1.3333, 2.0000])"
            ]
          },
          "metadata": {},
          "execution_count": 109
        }
      ]
    },
    {
      "cell_type": "markdown",
      "source": [
        "###Clearing the Gradient"
      ],
      "metadata": {
        "id": "dBADt92IgqLf"
      }
    },
    {
      "cell_type": "code",
      "source": [
        "#Problem: On multiple passes, the gradient don't get auto zeroed and instead get adds upon the earlier available value.\n",
        "\n",
        "x = torch.tensor(3.0, requires_grad=True)\n",
        "x"
      ],
      "metadata": {
        "colab": {
          "base_uri": "https://localhost:8080/"
        },
        "id": "QkPNbKkvgk-B",
        "outputId": "1a56dbd1-fe32-40c4-febd-f4fbdbb496f9"
      },
      "execution_count": 69,
      "outputs": [
        {
          "output_type": "execute_result",
          "data": {
            "text/plain": [
              "tensor(3., requires_grad=True)"
            ]
          },
          "metadata": {},
          "execution_count": 69
        }
      ]
    },
    {
      "cell_type": "code",
      "source": [
        "#re-run from here"
      ],
      "metadata": {
        "id": "s77nc9DFiMR1"
      },
      "execution_count": 83,
      "outputs": []
    },
    {
      "cell_type": "code",
      "source": [
        "y = x**2\n",
        "y\n"
      ],
      "metadata": {
        "colab": {
          "base_uri": "https://localhost:8080/"
        },
        "id": "QvdvU4lch1Ih",
        "outputId": "d3828c02-f683-4bff-bc0d-28e54bf96aa4"
      },
      "execution_count": 101,
      "outputs": [
        {
          "output_type": "execute_result",
          "data": {
            "text/plain": [
              "tensor(9., grad_fn=<PowBackward0>)"
            ]
          },
          "metadata": {},
          "execution_count": 101
        }
      ]
    },
    {
      "cell_type": "code",
      "source": [
        "y.backward()\n"
      ],
      "metadata": {
        "id": "wEkxlkHIhCkA"
      },
      "execution_count": 102,
      "outputs": []
    },
    {
      "cell_type": "code",
      "source": [
        "x.grad"
      ],
      "metadata": {
        "colab": {
          "base_uri": "https://localhost:8080/"
        },
        "id": "BavrF8iXhRGC",
        "outputId": "51df332f-a7e5-40b2-9657-c6252f99d469"
      },
      "execution_count": 103,
      "outputs": [
        {
          "output_type": "execute_result",
          "data": {
            "text/plain": [
              "tensor(24.)"
            ]
          },
          "metadata": {},
          "execution_count": 103
        }
      ]
    },
    {
      "cell_type": "code",
      "source": [
        "#to stop this, use this\n",
        "x.grad.zero_()"
      ],
      "metadata": {
        "colab": {
          "base_uri": "https://localhost:8080/"
        },
        "id": "pOhniuQ3h56H",
        "outputId": "538fa65a-03f0-4960-9c59-969ca78d94f5"
      },
      "execution_count": 91,
      "outputs": [
        {
          "output_type": "execute_result",
          "data": {
            "text/plain": [
              "tensor(0.)"
            ]
          },
          "metadata": {},
          "execution_count": 91
        }
      ]
    },
    {
      "cell_type": "markdown",
      "source": [
        "###Disabling the Gradient Tracking"
      ],
      "metadata": {
        "id": "28X43VX7i8Pu"
      }
    },
    {
      "cell_type": "code",
      "source": [
        "#Option 01\n",
        "x = torch.tensor(3.0,requires_grad=True)\n",
        "x"
      ],
      "metadata": {
        "colab": {
          "base_uri": "https://localhost:8080/"
        },
        "id": "rnGpCOeDjC0o",
        "outputId": "9683a67e-1890-4aba-e9f3-65e942e5ae3c"
      },
      "execution_count": 110,
      "outputs": [
        {
          "output_type": "execute_result",
          "data": {
            "text/plain": [
              "tensor(3., requires_grad=True)"
            ]
          },
          "metadata": {},
          "execution_count": 110
        }
      ]
    },
    {
      "cell_type": "code",
      "source": [
        "y = x**2\n",
        "y"
      ],
      "metadata": {
        "colab": {
          "base_uri": "https://localhost:8080/"
        },
        "id": "fI1gJfNWjKpo",
        "outputId": "fda94e79-fb49-4e4a-868a-68d2225e39af"
      },
      "execution_count": 111,
      "outputs": [
        {
          "output_type": "execute_result",
          "data": {
            "text/plain": [
              "tensor(9., grad_fn=<PowBackward0>)"
            ]
          },
          "metadata": {},
          "execution_count": 111
        }
      ]
    },
    {
      "cell_type": "code",
      "source": [
        "y.backward()\n",
        "x.grad"
      ],
      "metadata": {
        "colab": {
          "base_uri": "https://localhost:8080/"
        },
        "id": "QfKrZUeDjMkn",
        "outputId": "5f1b6ca2-88f4-45fe-ff58-73160942345f"
      },
      "execution_count": 112,
      "outputs": [
        {
          "output_type": "execute_result",
          "data": {
            "text/plain": [
              "tensor(6.)"
            ]
          },
          "metadata": {},
          "execution_count": 112
        }
      ]
    },
    {
      "cell_type": "code",
      "source": [
        "x.requires_grad_(False)"
      ],
      "metadata": {
        "colab": {
          "base_uri": "https://localhost:8080/"
        },
        "id": "VMb4QysBjPFJ",
        "outputId": "d4db9549-6d86-49a7-c048-19040ed248b9"
      },
      "execution_count": 115,
      "outputs": [
        {
          "output_type": "execute_result",
          "data": {
            "text/plain": [
              "tensor(3.)"
            ]
          },
          "metadata": {},
          "execution_count": 115
        }
      ]
    },
    {
      "cell_type": "code",
      "source": [
        "y = x**2\n",
        "y"
      ],
      "metadata": {
        "colab": {
          "base_uri": "https://localhost:8080/"
        },
        "id": "Om-FvaCrjYN4",
        "outputId": "e8bb632d-7f1d-461f-a1b2-9d9cfa1e4a1f"
      },
      "execution_count": 116,
      "outputs": [
        {
          "output_type": "execute_result",
          "data": {
            "text/plain": [
              "tensor(9.)"
            ]
          },
          "metadata": {},
          "execution_count": 116
        }
      ]
    },
    {
      "cell_type": "code",
      "source": [
        "#Option 02\n",
        "x = torch.tensor(3.0,requires_grad=True)\n",
        "x"
      ],
      "metadata": {
        "colab": {
          "base_uri": "https://localhost:8080/"
        },
        "id": "nDc_e-5zjgtn",
        "outputId": "51e1d380-b48a-43bf-8e31-758db666a21b"
      },
      "execution_count": 117,
      "outputs": [
        {
          "output_type": "execute_result",
          "data": {
            "text/plain": [
              "tensor(3., requires_grad=True)"
            ]
          },
          "metadata": {},
          "execution_count": 117
        }
      ]
    },
    {
      "cell_type": "code",
      "source": [
        "z = x.detach_()\n",
        "z"
      ],
      "metadata": {
        "colab": {
          "base_uri": "https://localhost:8080/"
        },
        "id": "5nyQ-MIhju-Q",
        "outputId": "31cc3715-744f-4cee-81a6-87bc9992b5a5"
      },
      "execution_count": 120,
      "outputs": [
        {
          "output_type": "execute_result",
          "data": {
            "text/plain": [
              "tensor(3.)"
            ]
          },
          "metadata": {},
          "execution_count": 120
        }
      ]
    },
    {
      "cell_type": "code",
      "source": [
        "#Option 03\n",
        "x = torch.tensor(3.0,requires_grad=True)\n",
        "x"
      ],
      "metadata": {
        "colab": {
          "base_uri": "https://localhost:8080/"
        },
        "id": "2ogw4H3jj2G_",
        "outputId": "0b524c6a-f26b-41a6-e0fc-42e833080033"
      },
      "execution_count": 121,
      "outputs": [
        {
          "output_type": "execute_result",
          "data": {
            "text/plain": [
              "tensor(3., requires_grad=True)"
            ]
          },
          "metadata": {},
          "execution_count": 121
        }
      ]
    },
    {
      "cell_type": "code",
      "source": [
        "with torch.no_grad():\n",
        "  y = x**2\n",
        "y"
      ],
      "metadata": {
        "colab": {
          "base_uri": "https://localhost:8080/"
        },
        "id": "_IpZsJJ_j8gP",
        "outputId": "c6615106-0db1-4244-8c1f-8983788ab1a1"
      },
      "execution_count": 122,
      "outputs": [
        {
          "output_type": "execute_result",
          "data": {
            "text/plain": [
              "tensor(9.)"
            ]
          },
          "metadata": {},
          "execution_count": 122
        }
      ]
    },
    {
      "cell_type": "code",
      "source": [],
      "metadata": {
        "id": "NcO9H2J_kE6x"
      },
      "execution_count": null,
      "outputs": []
    }
  ]
}